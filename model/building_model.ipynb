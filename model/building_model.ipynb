{
 "cells": [
  {
   "cell_type": "markdown",
   "metadata": {},
   "source": [
    "## Downloading Data"
   ]
  },
  {
   "cell_type": "code",
   "execution_count": 7,
   "metadata": {},
   "outputs": [],
   "source": [
    "import zipfile\n",
    "import os\n",
    "from kaggle.api.kaggle_api_extended import KaggleApi\n",
    "\n",
    "\n",
    "def get_kaggle_data_set(\n",
    "    project: str, \n",
    "    document: str, \n",
    "    directory_to_extract_to: str\n",
    "    ):\n",
    "    api = KaggleApi()\n",
    "    api.authenticate()\n",
    "\n",
    "    api.dataset_download_file(project, document)\n",
    "    zip_document = document + \".zip\"\n",
    "    with zipfile.ZipFile(zip_document, 'r') as zip_ref:\n",
    "        zip_ref.extractall(directory_to_extract_to)\n",
    "\n",
    "    os.remove(zip_document)\n",
    "\n",
    "\n",
    "document = \"cyberbullying_tweets.csv\"\n",
    "project = \"andrewmvd/cyberbullying-classification\"\n",
    "directory_to_extract_to = r\"C:\\Users\\EMILIO\\Documents\\Python Scripts\\CyberbullingProject\\model\\data\"\n",
    "\n",
    "get_kaggle_data_set(project, document, directory_to_extract_to)\n"
   ]
  },
  {
   "cell_type": "markdown",
   "metadata": {},
   "source": [
    "## Train-Test-Split"
   ]
  },
  {
   "cell_type": "code",
   "execution_count": 1,
   "metadata": {},
   "outputs": [],
   "source": [
    "import pandas as pd\n",
    "from pathlib import WindowsPath\n",
    "from sklearn.model_selection import train_test_split"
   ]
  },
  {
   "cell_type": "code",
   "execution_count": 2,
   "metadata": {},
   "outputs": [],
   "source": [
    "# Data extraction\n",
    "tweets_path = WindowsPath(r\"C:\\Users\\EMILIO\\Documents\\Python Scripts\\CyberbullingProject\\model\\data\\cyberbullying_tweets.csv\")\n",
    "tweets_data = pd.read_csv(tweets_path)\n",
    "\n",
    "tweets_data[\"is_cyberbullying\"] = tweets_data[\"cyberbullying_type\"].apply(lambda x: x != \"not_cyberbullying\")\n",
    "tweets_data[\"is_cyberbullying\"] = tweets_data[\"is_cyberbullying\"].astype(dtype = int)"
   ]
  },
  {
   "cell_type": "code",
   "execution_count": 3,
   "metadata": {},
   "outputs": [],
   "source": [
    "X = tweets_data[\"tweet_text\"]\n",
    "Y = tweets_data[\"is_cyberbullying\"]\n",
    "\n",
    "# Splitting\n",
    "X_tr_val, X_test, y_tr_val, y_test = train_test_split(\n",
    "    X, Y, test_size=0.1, random_state=33)\n",
    "\n",
    "X_train, X_val, y_train, y_val = train_test_split(\n",
    "    X_tr_val, y_tr_val, test_size=0.1, random_state=12)\n"
   ]
  },
  {
   "cell_type": "code",
   "execution_count": 4,
   "metadata": {},
   "outputs": [
    {
     "data": {
      "text/plain": [
       "1    32223\n",
       "0     6406\n",
       "Name: is_cyberbullying, dtype: int64"
      ]
     },
     "execution_count": 4,
     "metadata": {},
     "output_type": "execute_result"
    }
   ],
   "source": [
    "y_train.value_counts()"
   ]
  },
  {
   "cell_type": "markdown",
   "metadata": {},
   "source": [
    "## Undersampling"
   ]
  },
  {
   "cell_type": "code",
   "execution_count": 5,
   "metadata": {},
   "outputs": [
    {
     "data": {
      "text/plain": [
       "0    6406\n",
       "1    6406\n",
       "Name: is_cyberbullying, dtype: int64"
      ]
     },
     "execution_count": 5,
     "metadata": {},
     "output_type": "execute_result"
    }
   ],
   "source": [
    "# Random Undersampling\n",
    "train_df = pd.DataFrame(\n",
    "    X_train, columns=[\"tweet_text\"], index=y_train.index.values)\n",
    "train_df['is_cyberbullying'] = y_train\n",
    "\n",
    "len_cyber = len(train_df[train_df[\"is_cyberbullying\"] == 1])\n",
    "len_not_cyber = len(train_df[train_df[\"is_cyberbullying\"] == 0])\n",
    "n_del = len_cyber - len_not_cyber\n",
    "indeces_to_del = train_df[train_df[\"is_cyberbullying\"]\n",
    "                          == 1].sample(n=n_del, random_state=3).index\n",
    "\n",
    "train_df_u = train_df[~train_df.index.isin(indeces_to_del)]\n",
    "\n",
    "train_df_u[\"is_cyberbullying\"].value_counts()\n"
   ]
  },
  {
   "cell_type": "code",
   "execution_count": 6,
   "metadata": {},
   "outputs": [],
   "source": [
    "# Reasign balanced training and testing\n",
    "X_train_u = train_df[\"tweet_text\"]\n",
    "y_train_u = train_df[\"is_cyberbullying\"]"
   ]
  },
  {
   "cell_type": "markdown",
   "metadata": {},
   "source": [
    "## Tokenization and Padding"
   ]
  },
  {
   "cell_type": "code",
   "execution_count": 7,
   "metadata": {},
   "outputs": [],
   "source": [
    "from tensorflow.keras.preprocessing.sequence import pad_sequences\n",
    "from tensorflow.keras.preprocessing.text import Tokenizer\n",
    "\n",
    "from typing import List, Union\n",
    "\n",
    "X_train_list = X_train_u.tolist()\n",
    "X_train_gen = (x for x in X_train_list)\n"
   ]
  },
  {
   "cell_type": "code",
   "execution_count": 8,
   "metadata": {},
   "outputs": [],
   "source": [
    "vocab_size = 10000\n",
    "oov_tok = \"<OOV>\"\n",
    "\n",
    "tokenizer = Tokenizer(num_words=vocab_size, oov_token=oov_tok)\n",
    "tokenizer.fit_on_texts(X_train_gen)"
   ]
  },
  {
   "cell_type": "code",
   "execution_count": 9,
   "metadata": {},
   "outputs": [],
   "source": [
    "def get_padded_data(\n",
    "    tokenizer: Tokenizer, \n",
    "    data: Union[iter, pd.Series], \n",
    "    max_length: int = 700,\n",
    "    trunc_type: str = \"post\") -> List:\n",
    "\n",
    "    sequences = tokenizer.texts_to_sequences(data)\n",
    "    padded = pad_sequences(sequences, maxlen=max_length,\n",
    "                       truncating=trunc_type)\n",
    "\n",
    "    return padded\n"
   ]
  },
  {
   "cell_type": "code",
   "execution_count": 16,
   "metadata": {},
   "outputs": [],
   "source": [
    "# Get padding\n",
    "\n",
    "X_train_p = get_padded_data(tokenizer, X_train_u)\n",
    "X_val_p = get_padded_data(tokenizer, X_val)\n",
    "X_test_p = get_padded_data(tokenizer, X_test)"
   ]
  },
  {
   "cell_type": "markdown",
   "metadata": {},
   "source": [
    "## Model"
   ]
  },
  {
   "cell_type": "code",
   "execution_count": 11,
   "metadata": {},
   "outputs": [],
   "source": [
    "import tensorflow as tf"
   ]
  },
  {
   "cell_type": "code",
   "execution_count": 12,
   "metadata": {},
   "outputs": [],
   "source": [
    "# Design\n",
    "vocab_size = 10000\n",
    "embedding_dim = 16\n",
    "max_length = 700\n",
    "\n",
    "model = tf.keras.Sequential([\n",
    "    tf.keras.layers.Embedding(vocab_size , embedding_dim ,\n",
    "        input_length = max_length ),\n",
    "    tf.keras.layers.Flatten(),\n",
    "    tf.keras.layers.Dense(6, activation =\"relu\"),\n",
    "    tf.keras.layers.Dense(1, activation =\"sigmoid\")\n",
    "    ])\n",
    "\n",
    "model.compile(\n",
    "    loss=\"binary_crossentropy\",\n",
    "    optimizer =\"adam\", \n",
    "    metrics =[\"accuracy\"])"
   ]
  },
  {
   "cell_type": "code",
   "execution_count": 17,
   "metadata": {},
   "outputs": [
    {
     "name": "stdout",
     "output_type": "stream",
     "text": [
      "Epoch 1/10\n",
      "1208/1208 [==============================] - 15s 12ms/step - loss: 0.3033 - accuracy: 0.8553 - val_loss: 0.2630 - val_accuracy: 0.8726\n",
      "Epoch 2/10\n",
      "1208/1208 [==============================] - 14s 12ms/step - loss: 0.2289 - accuracy: 0.8870 - val_loss: 0.2669 - val_accuracy: 0.8637\n",
      "Epoch 3/10\n",
      "1208/1208 [==============================] - 14s 12ms/step - loss: 0.1942 - accuracy: 0.9087 - val_loss: 0.2902 - val_accuracy: 0.8556\n",
      "Epoch 4/10\n",
      "1208/1208 [==============================] - 14s 12ms/step - loss: 0.1617 - accuracy: 0.9239 - val_loss: 0.3256 - val_accuracy: 0.8474\n",
      "Epoch 5/10\n",
      "1208/1208 [==============================] - 14s 11ms/step - loss: 0.1335 - accuracy: 0.9388 - val_loss: 0.3835 - val_accuracy: 0.8439\n",
      "Epoch 6/10\n",
      "1208/1208 [==============================] - 14s 12ms/step - loss: 0.1141 - accuracy: 0.9465 - val_loss: 0.4157 - val_accuracy: 0.8416\n",
      "Epoch 7/10\n",
      "1208/1208 [==============================] - 14s 11ms/step - loss: 0.1030 - accuracy: 0.9514 - val_loss: 0.4410 - val_accuracy: 0.8409\n",
      "Epoch 8/10\n",
      "1208/1208 [==============================] - 14s 11ms/step - loss: 0.0952 - accuracy: 0.9538 - val_loss: 0.4631 - val_accuracy: 0.8430\n",
      "Epoch 9/10\n",
      "1208/1208 [==============================] - 14s 11ms/step - loss: 0.0914 - accuracy: 0.9553 - val_loss: 0.4748 - val_accuracy: 0.8411\n",
      "Epoch 10/10\n",
      "1208/1208 [==============================] - 14s 12ms/step - loss: 0.0863 - accuracy: 0.9561 - val_loss: 0.4917 - val_accuracy: 0.8386\n"
     ]
    }
   ],
   "source": [
    "num_epochs = 10\n",
    "history = model.fit(X_train_p, y_train_u, epochs=num_epochs,\n",
    "                    validation_data=(X_val_p, y_val))"
   ]
  }
 ],
 "metadata": {
  "interpreter": {
   "hash": "491ab5d68678b95e0008eb5c46d3b65640f42632fa0d2f4d7858ce54c3d1d9f3"
  },
  "kernelspec": {
   "display_name": "Python 3.9.12 ('py_env')",
   "language": "python",
   "name": "python3"
  },
  "language_info": {
   "codemirror_mode": {
    "name": "ipython",
    "version": 3
   },
   "file_extension": ".py",
   "mimetype": "text/x-python",
   "name": "python",
   "nbconvert_exporter": "python",
   "pygments_lexer": "ipython3",
   "version": "3.9.12"
  },
  "orig_nbformat": 4
 },
 "nbformat": 4,
 "nbformat_minor": 2
}
