{
 "cells": [
  {
   "cell_type": "markdown",
   "metadata": {},
   "source": [
    "## Downloading Data"
   ]
  },
  {
   "cell_type": "code",
   "execution_count": 7,
   "metadata": {},
   "outputs": [],
   "source": [
    "import zipfile\n",
    "import os\n",
    "from kaggle.api.kaggle_api_extended import KaggleApi\n",
    "\n",
    "\n",
    "def get_kaggle_data_set(\n",
    "    project: str, \n",
    "    document: str, \n",
    "    directory_to_extract_to: str\n",
    "    ):\n",
    "    api = KaggleApi()\n",
    "    api.authenticate()\n",
    "\n",
    "    api.dataset_download_file(project, document)\n",
    "    zip_document = document + \".zip\"\n",
    "    with zipfile.ZipFile(zip_document, 'r') as zip_ref:\n",
    "        zip_ref.extractall(directory_to_extract_to)\n",
    "\n",
    "    os.remove(zip_document)\n",
    "\n",
    "\n",
    "document = \"cyberbullying_tweets.csv\"\n",
    "project = \"andrewmvd/cyberbullying-classification\"\n",
    "directory_to_extract_to = r\"C:\\Users\\EMILIO\\Documents\\Python Scripts\\CyberbullingProject\\model\\data\"\n",
    "\n",
    "get_kaggle_data_set(project, document, directory_to_extract_to)\n"
   ]
  }
 ],
 "metadata": {
  "interpreter": {
   "hash": "491ab5d68678b95e0008eb5c46d3b65640f42632fa0d2f4d7858ce54c3d1d9f3"
  },
  "kernelspec": {
   "display_name": "Python 3.9.12 ('py_env')",
   "language": "python",
   "name": "python3"
  },
  "language_info": {
   "codemirror_mode": {
    "name": "ipython",
    "version": 3
   },
   "file_extension": ".py",
   "mimetype": "text/x-python",
   "name": "python",
   "nbconvert_exporter": "python",
   "pygments_lexer": "ipython3",
   "version": "3.9.12"
  },
  "orig_nbformat": 4
 },
 "nbformat": 4,
 "nbformat_minor": 2
}
